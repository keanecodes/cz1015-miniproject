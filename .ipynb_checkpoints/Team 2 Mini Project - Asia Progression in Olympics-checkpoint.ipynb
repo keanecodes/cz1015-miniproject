{
 "cells": [
  {
   "cell_type": "markdown",
   "metadata": {},
   "source": [
    "# 20 Mar 2019 Discussion\n",
    "\n",
    "Topics to visualise\n",
    "\n",
    "## Classification of Data\n",
    "- How many M/F is joining the Olympics over the years?\n",
    "- The proportion/ratio of M/F in Olymtics\n",
    "- The ratio of M/F in different sports category\n",
    "- Height & Weight of M/F over the years\n",
    "- Type of Sports countries are participating more/less in\n",
    "- Cummulative medals each country obtained\n",
    "\n",
    "## Prediction of Data\n",
    "- How many are retiring?\n",
    "- How many M/F will join the Olympics in the upcoming years?\n",
    "- Height & Weight of M/F of soon-to-join Olympicians (Use Weight to predict Height, vice versa)\n",
    "- Which country is likely to win medals more often?"
   ]
  },
  {
   "cell_type": "code",
   "execution_count": null,
   "metadata": {},
   "outputs": [],
   "source": []
  }
 ],
 "metadata": {
  "kernelspec": {
   "display_name": "Python 3",
   "language": "python",
   "name": "python3"
  },
  "language_info": {
   "codemirror_mode": {
    "name": "ipython",
    "version": 3
   },
   "file_extension": ".py",
   "mimetype": "text/x-python",
   "name": "python",
   "nbconvert_exporter": "python",
   "pygments_lexer": "ipython3",
   "version": "3.7.0"
  }
 },
 "nbformat": 4,
 "nbformat_minor": 2
}
